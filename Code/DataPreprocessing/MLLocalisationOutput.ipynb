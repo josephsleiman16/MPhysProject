{
 "cells": [
  {
   "cell_type": "code",
   "execution_count": 1,
   "id": "a8a94b3c",
   "metadata": {},
   "outputs": [],
   "source": [
    "Ind = ['3_1', '4_1', '5_1', '5_2']\n",
    "\n",
    "import numpy as np"
   ]
  },
  {
   "cell_type": "code",
   "execution_count": 2,
   "id": "7a16cf63",
   "metadata": {
    "scrolled": true
   },
   "outputs": [
    {
     "name": "stdout",
     "output_type": "stream",
     "text": [
      "D:\\PoL\\Beads100\\0_5\\Localisation\\KNOT1\\BU__KN_KNOT3_10.dat\n",
      "D:\\PoL\\Beads100\\0_5\\Localisation\\KNOT1\\BU__KN_KNOT3_11.dat\n",
      "D:\\PoL\\Beads100\\0_5\\Localisation\\KNOT1\\BU__KN_KNOT3_12.dat\n",
      "D:\\PoL\\Beads100\\0_5\\Localisation\\KNOT1\\BU__KN_KNOT3_13.dat\n",
      "D:\\PoL\\Beads100\\0_5\\Localisation\\KNOT1\\BU__KN_KNOT3_14.dat\n",
      "D:\\PoL\\Beads100\\0_5\\Localisation\\KNOT1\\BU__KN_KNOT3_15.dat\n",
      "D:\\PoL\\Beads100\\0_5\\Localisation\\KNOT1\\BU__KN_KNOT3_16.dat\n",
      "D:\\PoL\\Beads100\\0_5\\Localisation\\KNOT1\\BU__KN_KNOT3_17.dat\n",
      "D:\\PoL\\Beads100\\0_5\\Localisation\\KNOT1\\BU__KN_KNOT3_18.dat\n",
      "D:\\PoL\\Beads100\\0_5\\Localisation\\KNOT1\\BU__KN_KNOT3_19.dat\n",
      "D:\\PoL\\Beads100\\0_5\\Localisation\\KNOT2\\BU__KN_KNOT4_10.dat\n",
      "D:\\PoL\\Beads100\\0_5\\Localisation\\KNOT2\\BU__KN_KNOT4_11.dat\n",
      "D:\\PoL\\Beads100\\0_5\\Localisation\\KNOT2\\BU__KN_KNOT4_12.dat\n",
      "D:\\PoL\\Beads100\\0_5\\Localisation\\KNOT2\\BU__KN_KNOT4_13.dat\n",
      "D:\\PoL\\Beads100\\0_5\\Localisation\\KNOT2\\BU__KN_KNOT4_14.dat\n",
      "D:\\PoL\\Beads100\\0_5\\Localisation\\KNOT2\\BU__KN_KNOT4_15.dat\n",
      "D:\\PoL\\Beads100\\0_5\\Localisation\\KNOT2\\BU__KN_KNOT4_16.dat\n",
      "D:\\PoL\\Beads100\\0_5\\Localisation\\KNOT2\\BU__KN_KNOT4_17.dat\n",
      "D:\\PoL\\Beads100\\0_5\\Localisation\\KNOT2\\BU__KN_KNOT4_18.dat\n",
      "D:\\PoL\\Beads100\\0_5\\Localisation\\KNOT2\\BU__KN_KNOT4_19.dat\n",
      "D:\\PoL\\Beads100\\0_5\\Localisation\\KNOT3\\BU__KN_KNOT5_10.dat\n",
      "D:\\PoL\\Beads100\\0_5\\Localisation\\KNOT3\\BU__KN_KNOT5_11.dat\n",
      "D:\\PoL\\Beads100\\0_5\\Localisation\\KNOT3\\BU__KN_KNOT5_12.dat\n",
      "D:\\PoL\\Beads100\\0_5\\Localisation\\KNOT3\\BU__KN_KNOT5_13.dat\n",
      "D:\\PoL\\Beads100\\0_5\\Localisation\\KNOT3\\BU__KN_KNOT5_14.dat\n",
      "D:\\PoL\\Beads100\\0_5\\Localisation\\KNOT3\\BU__KN_KNOT5_15.dat\n",
      "D:\\PoL\\Beads100\\0_5\\Localisation\\KNOT3\\BU__KN_KNOT5_16.dat\n",
      "D:\\PoL\\Beads100\\0_5\\Localisation\\KNOT3\\BU__KN_KNOT5_17.dat\n",
      "D:\\PoL\\Beads100\\0_5\\Localisation\\KNOT3\\BU__KN_KNOT5_18.dat\n",
      "D:\\PoL\\Beads100\\0_5\\Localisation\\KNOT3\\BU__KN_KNOT5_19.dat\n",
      "D:\\PoL\\Beads100\\0_5\\Localisation\\KNOT4\\BU__KN_KNOT5_20.dat\n",
      "D:\\PoL\\Beads100\\0_5\\Localisation\\KNOT4\\BU__KN_KNOT5_21.dat\n",
      "D:\\PoL\\Beads100\\0_5\\Localisation\\KNOT4\\BU__KN_KNOT5_22.dat\n",
      "D:\\PoL\\Beads100\\0_5\\Localisation\\KNOT4\\BU__KN_KNOT5_23.dat\n",
      "D:\\PoL\\Beads100\\0_5\\Localisation\\KNOT4\\BU__KN_KNOT5_24.dat\n",
      "D:\\PoL\\Beads100\\0_5\\Localisation\\KNOT4\\BU__KN_KNOT5_25.dat\n",
      "D:\\PoL\\Beads100\\0_5\\Localisation\\KNOT4\\BU__KN_KNOT5_26.dat\n",
      "D:\\PoL\\Beads100\\0_5\\Localisation\\KNOT4\\BU__KN_KNOT5_27.dat\n",
      "D:\\PoL\\Beads100\\0_5\\Localisation\\KNOT4\\BU__KN_KNOT5_28.dat\n",
      "D:\\PoL\\Beads100\\0_5\\Localisation\\KNOT4\\BU__KN_KNOT5_29.dat\n"
     ]
    },
    {
     "data": {
      "text/plain": [
       "array([[[0., 0., 0., ..., 0., 0., 0.],\n",
       "        [0., 0., 0., ..., 0., 0., 0.],\n",
       "        [0., 0., 0., ..., 0., 0., 0.],\n",
       "        ...,\n",
       "        [1., 1., 1., ..., 1., 1., 1.],\n",
       "        [1., 1., 1., ..., 1., 1., 1.],\n",
       "        [1., 1., 1., ..., 1., 1., 1.]],\n",
       "\n",
       "       [[0., 0., 0., ..., 0., 0., 0.],\n",
       "        [0., 0., 0., ..., 0., 0., 0.],\n",
       "        [1., 1., 1., ..., 1., 1., 1.],\n",
       "        ...,\n",
       "        [1., 1., 1., ..., 1., 1., 1.],\n",
       "        [1., 1., 1., ..., 1., 1., 1.],\n",
       "        [1., 1., 1., ..., 1., 1., 1.]],\n",
       "\n",
       "       [[1., 1., 1., ..., 1., 1., 1.],\n",
       "        [1., 1., 1., ..., 1., 1., 1.],\n",
       "        [1., 1., 1., ..., 1., 1., 1.],\n",
       "        ...,\n",
       "        [1., 1., 1., ..., 1., 1., 1.],\n",
       "        [1., 1., 1., ..., 1., 1., 1.],\n",
       "        [1., 1., 1., ..., 1., 1., 1.]],\n",
       "\n",
       "       [[0., 0., 0., ..., 0., 0., 0.],\n",
       "        [0., 0., 0., ..., 0., 0., 0.],\n",
       "        [0., 0., 0., ..., 0., 0., 0.],\n",
       "        ...,\n",
       "        [1., 1., 1., ..., 1., 1., 1.],\n",
       "        [1., 1., 1., ..., 1., 1., 1.],\n",
       "        [1., 1., 1., ..., 0., 0., 1.]]])"
      ]
     },
     "execution_count": 2,
     "metadata": {},
     "output_type": "execute_result"
    }
   ],
   "source": [
    "#reading kymo data\n",
    "Nbeads = 100\n",
    "conf = 100000\n",
    "replicas = 10\n",
    "data = []\n",
    "\n",
    "kymodata = np.zeros((len(Ind), replicas*conf, Nbeads))\n",
    "#Random\n",
    "for i in range(len(Ind)):\n",
    "    for rep in range(replicas):\n",
    "        file1 = \"D:\\PoL\\Beads100\\\\0_5\\Localisation\\KNOT\"+str(i+1)+\"\\BU__KN_KNOT\"+str(Ind[i])+str(rep) + \".dat\"\n",
    "        print(file1)\n",
    "        f=open(file1,\"r\")\n",
    "        lines=f.readlines()[3:] # skip 3 lines of header\n",
    "        start=[]\n",
    "        end=[]\n",
    "        length=[]\n",
    "        #check if BU_KNOT file is complete\n",
    "        if (len(lines)<5):\n",
    "            continue\n",
    "        for x in lines:\n",
    "            start.append(int(x.split(' ')[3]))\n",
    "            end.append(int(x.split(' ')[4]))\n",
    "            length.append(int(x.split(' ')[5]))\n",
    "        f.close()\n",
    "\n",
    "        #ring is circular, need to take into account both ends\n",
    "        for j in range(conf):\n",
    "            for k in range(Nbeads):\n",
    "                if (start[j]>end[j]):\n",
    "                    if ((k>=start[j]) or (k<=end[j])):\n",
    "                        kymodata[i][j+(conf*rep)][k] = 1\n",
    "                elif (start[j]<end[j]):\n",
    "                    if ((k>=start[j]) and (k<=end[j])):\n",
    "                        kymodata[i][j+(conf*rep)][k] = 1\n",
    "                        \n",
    "kymodata\n"
   ]
  },
  {
   "cell_type": "code",
   "execution_count": 5,
   "id": "8143c28d",
   "metadata": {},
   "outputs": [],
   "source": [
    "kymodata = kymodata.astype(int)"
   ]
  },
  {
   "cell_type": "code",
   "execution_count": 34,
   "id": "9fba37cb",
   "metadata": {},
   "outputs": [],
   "source": [
    "np.save('kymodata.npy', kymodata)"
   ]
  },
  {
   "cell_type": "code",
   "execution_count": 11,
   "id": "8e96ff23",
   "metadata": {},
   "outputs": [
    {
     "data": {
      "text/plain": [
       "array([0, 0, 0, 0, 0, 0, 0, 0, 0, 0, 0, 0, 0, 0, 0, 0, 0, 0, 0, 0, 0, 1,\n",
       "       1, 1, 1, 1, 1, 1, 1, 1, 1, 1, 1, 1, 1, 1, 1, 1, 1, 1, 1, 1, 1, 1,\n",
       "       1, 1, 1, 1, 1, 1, 1, 1, 1, 1, 1, 1, 1, 1, 1, 1, 1, 1, 1, 1, 1, 1,\n",
       "       1, 0, 0, 0, 0, 0, 0, 0, 0, 0, 0, 0, 0, 0, 0, 0, 0, 0, 0, 0, 0, 0,\n",
       "       0, 0, 0, 0, 0, 0, 0, 0, 0, 0, 0, 0])"
      ]
     },
     "execution_count": 11,
     "metadata": {},
     "output_type": "execute_result"
    }
   ],
   "source": [
    "kymodata[0,10]"
   ]
  },
  {
   "cell_type": "code",
   "execution_count": 37,
   "id": "b528614a",
   "metadata": {},
   "outputs": [],
   "source": [
    "data = np.load('D:\\PoL\\Beads100\\kymodata.npy')"
   ]
  },
  {
   "cell_type": "code",
   "execution_count": 39,
   "id": "6e9d20eb",
   "metadata": {},
   "outputs": [
    {
     "data": {
      "text/plain": [
       "array([0, 0, 0, 0, 0, 0, 0, 0, 0, 0, 0, 0, 0, 0, 0, 0, 0, 0, 0, 0, 0, 0,\n",
       "       1, 1, 1, 1, 1, 1, 1, 1, 1, 1, 1, 1, 1, 1, 1, 1, 1, 1, 1, 1, 1, 1,\n",
       "       1, 1, 1, 1, 1, 1, 1, 1, 1, 1, 1, 1, 1, 1, 1, 1, 1, 1, 1, 1, 1, 1,\n",
       "       1, 1, 1, 1, 1, 1, 1, 1, 1, 1, 1, 1, 1, 1, 1, 1, 1, 1, 1, 1, 1, 1,\n",
       "       1, 1, 0, 0, 0, 0, 0, 0, 0, 0, 0, 0])"
      ]
     },
     "execution_count": 39,
     "metadata": {},
     "output_type": "execute_result"
    }
   ],
   "source": [
    "data[1][0]"
   ]
  },
  {
   "cell_type": "code",
   "execution_count": null,
   "id": "23903db0",
   "metadata": {},
   "outputs": [],
   "source": []
  }
 ],
 "metadata": {
  "kernelspec": {
   "display_name": "Python 3",
   "language": "python",
   "name": "python3"
  },
  "language_info": {
   "codemirror_mode": {
    "name": "ipython",
    "version": 3
   },
   "file_extension": ".py",
   "mimetype": "text/x-python",
   "name": "python",
   "nbconvert_exporter": "python",
   "pygments_lexer": "ipython3",
   "version": "3.7.10"
  }
 },
 "nbformat": 4,
 "nbformat_minor": 5
}
